{
 "cells": [
  {
   "cell_type": "code",
   "execution_count": 14,
   "metadata": {},
   "outputs": [],
   "source": [
    "import PIL\n",
    "import numpy as np\n",
    "from tensorflow.keras.models import load_model\n",
    "import tensorflow as tf\n",
    "import os"
   ]
  },
  {
   "cell_type": "code",
   "execution_count": 15,
   "metadata": {},
   "outputs": [
    {
     "name": "stdout",
     "output_type": "stream",
     "text": [
      "280\n",
      "[0, 0, 0, 0, 0, 0, 0, 0, 0, 0, 0, 0, 0, 0, 0, 0, 0, 0, 0, 0, 0, 0, 0, 0, 0, 0, 0, 0, 0, 0, 0, 0, 1, 1, 1, 1, 1, 1, 1, 1, 1, 1, 1, 1, 1, 1, 1, 1, 1, 1, 1, 1, 1, 2, 2, 2, 2, 2, 2, 2, 2, 2, 3, 3, 3, 3, 3, 3, 3, 3, 3, 3, 3, 3, 3, 3, 3, 3, 3, 3, 3, 3, 3, 3, 3, 3, 3, 3, 3, 3, 3, 3, 4, 4, 4, 4, 4, 4, 4, 4, 4, 4, 4, 4, 4, 4, 4, 4, 5, 5, 5, 5, 5, 5, 5, 5, 5, 5, 5, 5, 5, 5, 5, 5, 6, 6, 6, 6, 6, 6, 6, 6, 6, 6, 6, 6, 6, 6, 6, 7, 7, 7, 7, 7, 7, 7, 7, 7, 7, 7, 7, 7, 7, 7, 7, 7, 7, 7, 7, 7, 7, 7, 7, 7, 7, 7, 7, 8, 8, 8, 8, 8, 8, 8, 8, 8, 8, 8, 8, 8, 8, 8, 8, 9, 9, 9, 9, 9, 9, 9, 9, 9, 9, 9, 9, 9, 9, 9, 10, 10, 10, 10, 10, 10, 10, 10, 10, 10, 10, 10, 10, 10, 10, 10, 10, 10, 10, 10, 10, 10, 10, 10, 11, 11, 11, 11, 11, 11, 12, 12, 12, 12, 12, 12, 12, 12, 12, 12, 12, 12, 12, 13, 13, 13, 13, 13, 13, 13, 13, 13, 14, 14, 14, 14, 14, 14, 14, 14, 14, 15, 15, 15, 15, 15, 15, 15, 15, 15, 15, 15, 15, 15, 15, 15, 15, 15, 15, 15, 15, 15]\n"
     ]
    }
   ],
   "source": [
    "# Get label list from directory\n",
    "def get_labels(root):\n",
    "    dataset_dir = root\n",
    "    labels = []\n",
    "    for sub_folder in os.listdir(dataset_dir):\n",
    "        sub_folder_files = os.listdir(os.path.join(dataset_dir, sub_folder))\n",
    "        for i, filename in enumerate(sub_folder_files):\n",
    "            labels.append(filename)\n",
    "        break\n",
    "    return labels\n",
    "\n",
    "\n",
    "root = './tourism_destination_2/tourism_destination/'\n",
    "labels_ori = get_labels(root)\n",
    "\n",
    "\n",
    "def create_labels_from_filenames(dataset_path):\n",
    "    # List all files in the dataset directory\n",
    "    file_names = os.listdir(dataset_path)\n",
    "\n",
    "    labels = []\n",
    "    for file_name in file_names:\n",
    "        if file_name.endswith(\".jpg\"):\n",
    "            # Remove the file extension to get the label\n",
    "            label = os.path.splitext(file_name)[0]\n",
    "            labels.append(label)\n",
    "\n",
    "    return labels\n",
    "\n",
    "\n",
    "# Example usage:\n",
    "dataset_path = \"./tourism_destination_2/testing_image/\"\n",
    "labels = create_labels_from_filenames(dataset_path)\n",
    "\n",
    "# Print the labels\n",
    "# print(labels)\n",
    "\n",
    "\n",
    "def check_word_in_another_word(word, another_word):\n",
    "    if word.lower() in another_word.lower():\n",
    "        return True\n",
    "    else:\n",
    "        return False\n",
    "\n",
    "\n",
    "y_labels = []\n",
    "for i in range(len(labels)):\n",
    "    for j in range(len(labels_ori)):\n",
    "        if check_word_in_another_word(labels_ori[j], labels[i]):\n",
    "            # y_labels.append(labels_ori[j])\n",
    "            y_labels.append(j)\n",
    "\n",
    "# Print the filtered labels\n",
    "print(len(y_labels))\n",
    "print(y_labels)"
   ]
  },
  {
   "cell_type": "code",
   "execution_count": 3,
   "metadata": {},
   "outputs": [],
   "source": [
    "root = './tourism_destination_2/tourism_destination/'\n",
    "class_labels = get_labels(root)  # Replace with your own class labels"
   ]
  },
  {
   "cell_type": "code",
   "execution_count": 32,
   "metadata": {},
   "outputs": [],
   "source": [
    "model = load_model(\"./models/model7.h5\")"
   ]
  },
  {
   "cell_type": "code",
   "execution_count": 35,
   "metadata": {},
   "outputs": [
    {
     "name": "stdout",
     "output_type": "stream",
     "text": [
      "9/9 [==============================] - 1s 122ms/step - loss: 0.2490 - accuracy: 0.9536\n",
      "Loss: 0.24899180233478546\n",
      "Accuracy: 0.9535714387893677\n"
     ]
    }
   ],
   "source": [
    "# Load and preprocess the test dataset\n",
    "\n",
    "test_labels = [0, 0, 0, 0, 0, 0, 0, 0, 0, 0, 0, 0, 0, 0, 0, 0, 0, 0, 0, 0, 0, 0, 0, 0, 0, 0, 0, 0, 0, 0, 0, 0, 1, 1, 1, 1, 1, 1, 1, 1, 1, 1, 1, 1, 1, 1, 1, 1, 1, 1, 1, 1, 1, 2, 2, 2, 2, 2, 2, 2, 2, 2, 3, 3, 3, 3, 3, 3, 3, 3, 3, 3, 3, 3, 3, 3, 3, 3, 3, 3, 3, 3, 3, 3, 3, 3, 3, 3, 3, 3, 3, 3, 4, 4, 4, 4, 4, 4, 4, 4, 4, 4, 4, 4, 4, 4, 4, 4, 5, 5, 5, 5, 5, 5, 5, 5, 5, 5, 5, 5, 5, 5, 5, 5, 6, 6, 6, 6, 6, 6, 6, 6, 6, 6, 6, 6, 6, 6, 6, 7, 7, 7, 7, 7, 7, 7, 7, 7, 7, 7, 7, 7, 7, 7, 7, 7, 7, 7, 7, 7, 7, 7, 7, 7, 7, 7, 7, 8, 8, 8, 8, 8, 8, 8, 8, 8, 8, 8, 8, 8, 8, 8, 8, 9, 9, 9, 9, 9, 9, 9, 9, 9, 9, 9, 9, 9, 9, 9, 10, 10, 10, 10, 10, 10, 10, 10, 10, 10, 10, 10, 10, 10, 10, 10, 10, 10, 10, 10, 10, 10, 10, 10, 11, 11, 11, 11, 11, 11, 12, 12, 12, 12, 12, 12, 12, 12, 12, 12, 12, 12, 12, 13, 13, 13, 13, 13, 13, 13, 13, 13, 14, 14, 14, 14, 14, 14, 14, 14, 14, 15, 15, 15, 15, 15, 15, 15, 15, 15, 15, 15, 15, 15, 15, 15, 15, 15, 15, 15, 15, 15]\n",
    "\n",
    "test_images_dir = './tourism_destination_2/testing_image/'\n",
    "\n",
    "# List all image files in the directory\n",
    "image_files = os.listdir(test_images_dir)\n",
    "images = []\n",
    "\n",
    "for image_file in image_files:\n",
    "    # Load and preprocess the image\n",
    "    image_path = os.path.join(test_images_dir, image_file)\n",
    "    image = PIL.Image.open(image_path)\n",
    "    image = image.resize((150, 150))  # Adjust the size according to your model's input shape\n",
    "    image = np.array(image) / 255.0  # Normalize the image\n",
    "    # image = np.expand_dims(image, axis=-1)  # Add a batch dimension\n",
    "\n",
    "    images.append(image)\n",
    "\n",
    "# Convert the test_images and test_labels to numpy arrays\n",
    "test_images = np.array(images)\n",
    "test_labels = np.array(test_labels)\n",
    "num_classes = 16  # Replace with the actual number of classes\n",
    "test_labels = tf.keras.utils.to_categorical(test_labels, num_classes)\n",
    "\n",
    "\n",
    "results = model.evaluate(test_images, test_labels)\n",
    "print(\"Loss:\", results[0])\n",
    "print(\"Accuracy:\", results[1])\n"
   ]
  },
  {
   "cell_type": "code",
   "execution_count": 36,
   "metadata": {},
   "outputs": [
    {
     "name": "stdout",
     "output_type": "stream",
     "text": [
      "9/9 [==============================] - 1s 124ms/step\n"
     ]
    },
    {
     "data": {
      "image/png": "[encoded data removed]",
      "text/plain": [
       "<Figure size 432x288 with 2 Axes>"
      ]
     },
     "metadata": {
      "needs_background": "light"
     },
     "output_type": "display_data"
    },
    {
     "name": "stdout",
     "output_type": "stream",
     "text": [
      "Confusion Matrix:\n",
      "[[31  0  0  0  0  0  0  0  0  1  0  0  0  0  0  0]\n",
      " [ 0 20  0  0  1  0  0  0  0  0  0  0  0  0  0  0]\n",
      " [ 0  0  9  0  0  0  0  0  0  0  0  0  0  0  0  0]\n",
      " [ 0  0  0 30  0  0  0  0  0  0  0  0  0  0  0  0]\n",
      " [ 0  0  0  0 12  2  0  0  0  1  0  0  0  0  0  1]\n",
      " [ 0  0  1  0  0 14  0  0  0  1  0  0  0  0  0  0]\n",
      " [ 0  0  0  0  0  0 15  0  0  0  0  0  0  0  0  0]\n",
      " [ 0  0  0  0  0  0  0 28  0  0  0  0  0  0  0  0]\n",
      " [ 0  0  0  0  0  0  0  0 16  0  0  0  0  0  0  0]\n",
      " [ 0  0  0  0  0  0  0  0  0 15  0  0  0  0  0  0]\n",
      " [ 0  0  0  0  0  0  0  0  0  0 24  0  0  0  0  0]\n",
      " [ 0  0  0  0  0  0  0  1  0  0  0  5  0  0  0  0]\n",
      " [ 0  0  0  0  0  0  0  0  0  0  0  0 13  0  0  0]\n",
      " [ 0  0  0  0  0  1  0  0  2  0  0  0  0  6  0  0]\n",
      " [ 0  0  0  0  1  0  0  0  0  0  0  0  0  0  8  0]\n",
      " [ 0  0  0  0  0  0  0  0  0  0  0  0  0  0  0 21]]\n"
     ]
    }
   ],
   "source": [
    "import numpy as np\n",
    "from sklearn.metrics import confusion_matrix\n",
    "\n",
    "# Assuming you have the predicted labels and true labels\n",
    "predicted_labels = model.predict(test_images)\n",
    "predicted_labels = np.argmax(predicted_labels, axis=1)\n",
    "true_labels = np.argmax(test_labels, axis=1)\n",
    "\n",
    "# Create the confusion matrix\n",
    "confusion_mat = confusion_matrix(true_labels, predicted_labels)\n",
    "# tn, fp, fn, tp = confusion_matrix(true_labels, predicted_labels).ravel()\n",
    "\n",
    "import matplotlib.pyplot as plt\n",
    "from sklearn.datasets import make_classification\n",
    "from sklearn.metrics import ConfusionMatrixDisplay\n",
    "from sklearn.model_selection import train_test_split\n",
    "\n",
    "from sklearn.svm import SVC\n",
    "# clf = SVC(random_state=0)\n",
    "# clf.fit(predicted_labels, y_train)\n",
    "# SVC(random_state=0)\n",
    "# y_pred = clf.predict(X_test)\n",
    "ConfusionMatrixDisplay.from_predictions(\n",
    "predicted_labels, true_labels)\n",
    "\n",
    "plt.show()\n",
    "\n",
    "# Print the confusion matrix\n",
    "print(\"Confusion Matrix:\")\n",
    "print(confusion_mat)"
   ]
  },
  {
   "cell_type": "code",
   "execution_count": 37,
   "metadata": {},
   "outputs": [
    {
     "name": "stdout",
     "output_type": "stream",
     "text": [
      "F1 Score: 0.9384578184698564\n",
      "Precision: 0.9514348241909094\n",
      "Recall: 0.9334387400793651\n"
     ]
    }
   ],
   "source": [
    "import numpy as np\n",
    "from sklearn.metrics import precision_score, recall_score\n",
    "from sklearn.metrics import f1_score\n",
    "\n",
    "# Calculate precision\n",
    "precision = precision_score(true_labels, predicted_labels, average='macro')\n",
    "\n",
    "# Calculate recall\n",
    "recall = recall_score(true_labels, predicted_labels, average='macro')\n",
    "\n",
    "# Calculate F1 score\n",
    "f1 = f1_score(true_labels, predicted_labels, average='macro')\n",
    "\n",
    "# Print F1 Score, precision and recall\n",
    "print(\"F1 Score:\", f1)\n",
    "print(\"Precision:\", precision)\n",
    "print(\"Recall:\", recall)\n"
   ]
  },
  {
   "cell_type": "code",
   "execution_count": 38,
   "metadata": {},
   "outputs": [
    {
     "name": "stdout",
     "output_type": "stream",
     "text": [
      "              precision    recall  f1-score   support\n",
      "\n",
      "           0       1.00      0.97      0.98        32\n",
      "           1       1.00      0.95      0.98        21\n",
      "           2       0.90      1.00      0.95         9\n",
      "           3       1.00      1.00      1.00        30\n",
      "           4       0.86      0.75      0.80        16\n",
      "           5       0.82      0.88      0.85        16\n",
      "           6       1.00      1.00      1.00        15\n",
      "           7       0.97      1.00      0.98        28\n",
      "           8       0.89      1.00      0.94        16\n",
      "           9       0.83      1.00      0.91        15\n",
      "          10       1.00      1.00      1.00        24\n",
      "          11       1.00      0.83      0.91         6\n",
      "          12       1.00      1.00      1.00        13\n",
      "          13       1.00      0.67      0.80         9\n",
      "          14       1.00      0.89      0.94         9\n",
      "          15       0.95      1.00      0.98        21\n",
      "\n",
      "    accuracy                           0.95       280\n",
      "   macro avg       0.95      0.93      0.94       280\n",
      "weighted avg       0.96      0.95      0.95       280\n",
      "\n"
     ]
    }
   ],
   "source": [
    "from sklearn.metrics import classification_report \n",
    "print(classification_report(true_labels, predicted_labels))"
   ]
  },
  {
   "cell_type": "code",
   "execution_count": 28,
   "metadata": {},
   "outputs": [
    {
     "name": "stdout",
     "output_type": "stream",
     "text": [
      "0 borobudur\n",
      "1 jendral_sudirman\n",
      "2 martapura\n",
      "3 monas\n",
      "4 monumen_lobar\n",
      "5 monumen_mataram_metro\n",
      "6 monumen_selamat_datang\n",
      "7 monumen_surabaya\n",
      "8 museum_tsunami\n",
      "9 pantai_penyu\n",
      "10 prambanan\n",
      "11 pura_suranadi\n",
      "12 rumah_aceh\n",
      "13 sarinah_mall\n",
      "14 taman_sangkreang\n",
      "15 tugu_jogja\n"
     ]
    }
   ],
   "source": [
    "for i, name in enumerate(labels_ori):\n",
    "    print(i, name)"
   ]
  },
  {
   "cell_type": "code",
   "execution_count": null,
   "metadata": {},
   "outputs": [],
   "source": []
  }
 ],
 "metadata": {
  "kernelspec": {
   "display_name": "base",
   "language": "python",
   "name": "python3"
  },
  "language_info": {
   "codemirror_mode": {
    "name": "ipython",
    "version": 3
   },
   "file_extension": ".py",
   "mimetype": "text/x-python",
   "name": "python",
   "nbconvert_exporter": "python",
   "pygments_lexer": "ipython3",
   "version": "3.9.7"
  },
  "orig_nbformat": 4
 },
 "nbformat": 4,
 "nbformat_minor": 2
}
